{
 "cells": [
  {
   "cell_type": "markdown",
   "metadata": {},
   "source": [
    "# SpO2 test\n",
    "\n",
    "get spo2 and R-curve regression parameters from spo2_calibration\n"
   ]
  },
  {
   "cell_type": "markdown",
   "metadata": {},
   "source": [
    "## import module and declare function"
   ]
  },
  {
   "cell_type": "code",
   "execution_count": 49,
   "metadata": {},
   "outputs": [],
   "source": [
    "\n",
    "import numpy as np\n",
    "import matplotlib.pyplot as plt\n",
    "import os,sys\n",
    "import scipy.signal as signal\n",
    "from scipy.interpolate import interp1d\n",
    "import re\n",
    "import pandas as pd\n",
    "import math\n",
    "\n",
    "plt.style.use('ggplot')\n",
    "sys.path.insert(0, os.path.abspath('../lib'))\n",
    "\n",
    "import sig_proc as sp\n",
    "import file_read\n",
    "\n",
    "import csv\n",
    "\n",
    "# Normalize to mv\n",
    "def value_trans(data):\n",
    "    data = data*1.2/2097151.0\n",
    "    return data\n",
    "\n",
    "\n",
    "def RMS_amp(data):\n",
    "    squaredData = []\n",
    "    for val in data:\n",
    "        squaredData.append(val**2)\n",
    "    \n",
    "    ms = np.mean(squaredData)\n",
    "    rms = math.sqrt(ms)\n",
    "    return rms\n",
    "\n",
    "\n",
    "# currently for 4 seconds version\n",
    "def signalQuality(filt_R, filt_IR, sr):\n",
    "    tm_length=2*sr\n",
    "    template_R = filt_R[0:tm_length]\n",
    "    template_IR = filt_IR[0:tm_length]\n",
    "    test_signal_R = filt_R[tm_length:]\n",
    "    test_signal_IR = filt_IR[tm_length:]\n",
    "\n",
    "    r_xcorr = sqi_xcorr(test_signal_R, template_R)\n",
    "    ir_xcorr = sqi_xcorr(test_signal_IR, template_IR)\n",
    "    ri_corr = sp.corrcoef(test_signal_R, test_signal_IR)\n",
    "\n",
    "    if r_xcorr <0.4 or ir_xcorr<0.4 or ri_corr < 0.6:\n",
    "        level = 'low'\n",
    "    elif (r_xcorr > 0.4 and r_xcorr <0.6) or (ir_xcorr > 0.4 and ir_xcorr<0.6):\n",
    "        level = 'medium'\n",
    "    else:\n",
    "        level='high'\n",
    "        \n",
    "    return level\n",
    "\n",
    "\n",
    "def sqi_xcorr(x,y):\n",
    "    x_norm = sp.z_score(x)\n",
    "    y_norm = sp.z_score(y)\n",
    "    pxy = max(np.correlate(x_norm, y_norm))\n",
    "#     pyy = np.correlate(y_norm, y_norm)\n",
    "    pyy = sum(y_norm*y_norm)\n",
    "    return (2*pxy)/pyy\n",
    "\n",
    "\n",
    "\n",
    "def ppg_proc(df, index, sr=50):\n",
    "    global bp_a, bp_b\n",
    "    \n",
    "    for i in index:\n",
    "        subject = df.loc[i]['subject']\n",
    "        data = file_read.thor2_reader(os.path.join(\"../../data\", folder, subject))\n",
    "\n",
    "        R = np.array(data['PPG_R'])\n",
    "        IR = np.array(data['PPG_IR'])\n",
    "        G = np.array(data['PPG_G2'])\n",
    "\n",
    "        \n",
    "        s1 = df.loc[i]['t1']*sr\n",
    "        s2 = s1+6*sr\n",
    "        IR_segment = np.array(IR[s1:s2])\n",
    "        R_segment = np.array(R[s1:s2])\n",
    "        G_segment = np.array(G[s1:s2])\n",
    "        \n",
    "        filt_IR = signal.filtfilt(bp_b,bp_a, IR_segment)\n",
    "        filt_R = signal.filtfilt(bp_b, bp_a, R_segment)\n",
    "        filt_G = signal.filtfilt(bp_b, bp_a, G_segment)\n",
    "        \n",
    "        \n",
    "        R_AC = RMS_amp(filt_R)\n",
    "        IR_AC = RMS_amp(filt_IR)\n",
    "        \n",
    "        plt.figure(figsize=(6,4))\n",
    "\n",
    "        # plt.axhline(R_AC, color='r', linestyle='--')\n",
    "        # plt.axhline(IR_AC, color='blue', linestyle='--')\n",
    "        \n",
    "        plot_title = \"{}, {} \\n\".format(subject, df.loc[i]['t1'])\n",
    "        plot_title = plot_title + \"R-value: {}\\n\".format(np.round(df.loc[i]['R_value'],2))\n",
    "        plt.title(plot_title)\n",
    "        plt.plot(filt_R, label='R')\n",
    "        \n",
    "        \n",
    "        plt.plot(filt_IR, label='IR')\n",
    "        # plt.plot(filt_G, label='G')\n",
    "        plt.legend()\n",
    "\n",
    "\n"
   ]
  },
  {
   "cell_type": "markdown",
   "metadata": {},
   "source": [
    "## Main function"
   ]
  },
  {
   "cell_type": "code",
   "execution_count": 39,
   "metadata": {},
   "outputs": [],
   "source": [
    "\n",
    "# folder = 'SPO2'\n",
    "# subjects = ['Jet', 'Nicole']\n",
    "\n",
    "folder = \"Thor 2.0 BP收集 1220-0103\"\n",
    "subjects = ['Coco', 'Gary', 'Jack', 'Molly', 'Nicole', 'Rick', 'Shawn', 'Steven', 'Vanessa']\n",
    "# subjects = ['Tanya']\n",
    "days = ['01','02', '03']\n",
    "days = ['01'] # recored 5 day 01, 02, 03, 04, 05\n",
    "meridiem = 'PM'\n",
    "\n",
    "\n",
    "''' Select the duration of PPG segment in seconds'''\n",
    "start_sec = 0\n",
    "period = 4\n",
    "overlap = 2\n",
    "# overlap = 0\n",
    "# data_length = len(G_y)/sr\n",
    "hop_length = period - overlap\n",
    "# num_watching_period = 5\n",
    "# num_watching_period = int((data_length - overlap)/hop_length) -1\n",
    "\n",
    "vsTable = {\n",
    "    'subject':[],\n",
    "    'spo2':[],\n",
    "    'R_AC':[],\n",
    "    'R_DC':[],\n",
    "    'IR_AC':[],\n",
    "    'IR_DC':[],\n",
    "    'G_AC':[],\n",
    "    'G_DC':[],\n",
    "    'R_value':[],\n",
    "    'R_squared':[],\n",
    "    'quality':[]\n",
    "}\n",
    "sr = 50\n",
    "\n",
    "# Filter parameters\n",
    "bp_b, bp_a = sp.bp_filter(0.8, 3, sr, 4)\n",
    "lp_b, lp_a = sp.lp_filter(3, sr, 4)\n",
    "\n",
    "# K1 = 121.12\n",
    "# K2 = -51.77\n",
    "coeficient = [-12.75886139, 1.39192419]\n",
    "intercept = 104.14801275562009\n",
    "for day in days:\n",
    "    for subject in subjects:\n",
    "        full_path = os.path.join(\"../../data\", folder, subject, day, meridiem)\n",
    "        # data = file_read.thor2_reader(os.path.join(\"../../data\", folder, subject), 'RawData')\n",
    "        R = file_read.load_ppg(full_path, 'PPG_R')\n",
    "        IR = file_read.load_ppg(full_path, 'PPG_IR')\n",
    "        G = file_read.load_ppg(full_path, 'PPG_G')\n",
    "        # R = data['PPG_R']\n",
    "        # IR = data['PPG_IR']\n",
    "        # G = data['PPG_G2']\n",
    "        R = np.array(list(map(value_trans, R)))\n",
    "        IR = np.array(list(map(value_trans, IR)))\n",
    "        G = np.array(list(map(value_trans, G)))\n",
    "\n",
    "            \n",
    "        \n",
    "        data_length = len(G)/sr\n",
    "        num_watching_period = int((data_length - start_sec -overlap)/hop_length) -1\n",
    "        # num_watching_period = 3\n",
    "\n",
    "        per_spo2 = []\n",
    "        per_R = []\n",
    "        for n in range(num_watching_period):\n",
    "            \n",
    "\n",
    "            t1 = start_sec +  (period-overlap) * n\n",
    "            t2 = t1 + period\n",
    "            s1 = int(t1*sr)\n",
    "            s2 = int(t2*sr )\n",
    "\n",
    "            '''''''''''''''''''''''''''''''''''''''\n",
    "            Signal Preprocessing\n",
    "            '''''''''''''''''''''''''''''''''''''''\n",
    "            IR_segment = np.array(IR[s1:s2])\n",
    "            R_segment = np.array(R[s1:s2])\n",
    "            G_segment = np.array(G[s1:s2])\n",
    "            \n",
    "            ''' AC component '''\n",
    "            filt_IR = signal.filtfilt(bp_b,bp_a, IR_segment)\n",
    "            filt_R = signal.filtfilt(bp_b, bp_a, R_segment)\n",
    "            filt_G = signal.filtfilt(bp_b, bp_a, G_segment)\n",
    "            ''' DC component '''\n",
    "            R_DC_component = signal.filtfilt(lp_b,lp_a, R_segment)\n",
    "            IR_DC_component = signal.filtfilt(lp_b,lp_a, IR_segment)\n",
    "            G_DC_component = signal.filtfilt(lp_b,lp_a, G_segment)\n",
    "\n",
    "            ''' signal quality '''\n",
    "            level = signalQuality(filt_R, filt_IR, sr)\n",
    "            \n",
    "            ''' Calculate R value by using RMS method'''\n",
    "            R_AC = RMS_amp(filt_R)\n",
    "            R_DC = RMS_amp(R_DC_component)\n",
    "            IR_AC = RMS_amp(filt_IR)\n",
    "            IR_DC = RMS_amp(IR_DC_component)\n",
    "            \n",
    "            G_AC = RMS_amp(filt_G)\n",
    "            G_DC = RMS_amp(G_DC_component)\n",
    "            \n",
    "            R_RMS = R_AC/R_DC\n",
    "            IR_RMS = IR_AC/IR_DC\n",
    "            \n",
    "            # R_divide = filt_R/R_DC_component\n",
    "            # R_RMS = RMS_amp(R_divide)\n",
    "\n",
    "            # IR_divide = filt_IR/IR_DC_component\n",
    "            # IR_RMS = RMS_amp(IR_divide)\n",
    "            \n",
    "            R_value = R_RMS/ IR_RMS\n",
    "            R_squared = R_value**2\n",
    "            \n",
    "            spo2 = intercept + (coeficient[0]*R_value) + (coeficient[1]*R_squared)\n",
    "\n",
    "            # simulator\n",
    "            # spo2 = 119.4638 + (-37.8709*R_value) + (-0.1610*R_squared)\n",
    "            \n",
    "            vsTable['subject'].append(subject)\n",
    "            vsTable['quality'].append(level)\n",
    "            vsTable['spo2'].append(spo2)\n",
    "            vsTable['R_AC'].append(R_AC)\n",
    "            vsTable['R_DC'].append(R_DC)\n",
    "            vsTable['IR_AC'].append(IR_AC)\n",
    "            vsTable['IR_DC'].append(IR_DC)\n",
    "            vsTable['G_AC'].append(G_AC)\n",
    "            vsTable['G_DC'].append(G_DC)\n",
    "            # vsTable['R_PI'].append(R_RMS)\n",
    "            # vsTable['IR_PI'].append(IR_RMS)\n",
    "            vsTable['R_value'].append(R_value)\n",
    "            vsTable['R_squared'].append(R_squared)\n",
    "            \n",
    "            '''''''''''''''''''''''''''''''''''\n",
    "            plot filgure\n",
    "            '''''''''''''''''''''''''''''''''''\n",
    "            font_size = 14\n",
    "            fig_size  = (6,4)\n",
    "            \n",
    "            \n",
    "            \n",
    "            # plt.figure(figsize=fig_size)\n",
    "            # plot_title = \"{},{}:{}, quality:{} \\n\".format(subject, t1,t2, level)\n",
    "            # plot_title = plot_title + \"spo2: {}\\n\".format(np.round(spo2,2))\n",
    "            # plt.title(plot_title)\n",
    "            # plt.plot(filt_R, label='R')\n",
    "            # plt.plot(filt_IR, label='IR')\n",
    "            # plt.legend()\n",
    "            per_R.append(R_value)\n",
    "            per_spo2.append(spo2)\n",
    "\n",
    "\n"
   ]
  },
  {
   "cell_type": "markdown",
   "metadata": {},
   "source": [
    "## Create dataframe for vital sign"
   ]
  },
  {
   "cell_type": "code",
   "execution_count": 40,
   "metadata": {},
   "outputs": [
    {
     "data": {
      "text/html": [
       "<div>\n",
       "<style scoped>\n",
       "    .dataframe tbody tr th:only-of-type {\n",
       "        vertical-align: middle;\n",
       "    }\n",
       "\n",
       "    .dataframe tbody tr th {\n",
       "        vertical-align: top;\n",
       "    }\n",
       "\n",
       "    .dataframe thead th {\n",
       "        text-align: right;\n",
       "    }\n",
       "</style>\n",
       "<table border=\"1\" class=\"dataframe\">\n",
       "  <thead>\n",
       "    <tr style=\"text-align: right;\">\n",
       "      <th></th>\n",
       "      <th>subject</th>\n",
       "      <th>spo2</th>\n",
       "      <th>R_AC</th>\n",
       "      <th>R_DC</th>\n",
       "      <th>IR_AC</th>\n",
       "      <th>IR_DC</th>\n",
       "      <th>G_AC</th>\n",
       "      <th>G_DC</th>\n",
       "      <th>R_value</th>\n",
       "      <th>R_squared</th>\n",
       "      <th>quality</th>\n",
       "    </tr>\n",
       "  </thead>\n",
       "  <tbody>\n",
       "    <tr>\n",
       "      <th>0</th>\n",
       "      <td>Coco</td>\n",
       "      <td>94.067730</td>\n",
       "      <td>0.000128</td>\n",
       "      <td>0.668059</td>\n",
       "      <td>0.000165</td>\n",
       "      <td>0.752154</td>\n",
       "      <td>0.000779</td>\n",
       "      <td>0.503269</td>\n",
       "      <td>0.873254</td>\n",
       "      <td>0.762572</td>\n",
       "      <td>low</td>\n",
       "    </tr>\n",
       "    <tr>\n",
       "      <th>1</th>\n",
       "      <td>Coco</td>\n",
       "      <td>91.528733</td>\n",
       "      <td>0.000248</td>\n",
       "      <td>0.668927</td>\n",
       "      <td>0.000247</td>\n",
       "      <td>0.750615</td>\n",
       "      <td>0.000910</td>\n",
       "      <td>0.496823</td>\n",
       "      <td>1.127828</td>\n",
       "      <td>1.271996</td>\n",
       "      <td>low</td>\n",
       "    </tr>\n",
       "    <tr>\n",
       "      <th>2</th>\n",
       "      <td>Coco</td>\n",
       "      <td>91.589438</td>\n",
       "      <td>0.000233</td>\n",
       "      <td>0.669477</td>\n",
       "      <td>0.000232</td>\n",
       "      <td>0.749842</td>\n",
       "      <td>0.000795</td>\n",
       "      <td>0.494974</td>\n",
       "      <td>1.121523</td>\n",
       "      <td>1.257814</td>\n",
       "      <td>high</td>\n",
       "    </tr>\n",
       "    <tr>\n",
       "      <th>3</th>\n",
       "      <td>Coco</td>\n",
       "      <td>97.037660</td>\n",
       "      <td>0.000077</td>\n",
       "      <td>0.669437</td>\n",
       "      <td>0.000146</td>\n",
       "      <td>0.749879</td>\n",
       "      <td>0.000698</td>\n",
       "      <td>0.497854</td>\n",
       "      <td>0.596046</td>\n",
       "      <td>0.355270</td>\n",
       "      <td>low</td>\n",
       "    </tr>\n",
       "    <tr>\n",
       "      <th>4</th>\n",
       "      <td>Coco</td>\n",
       "      <td>97.487888</td>\n",
       "      <td>0.000062</td>\n",
       "      <td>0.669018</td>\n",
       "      <td>0.000126</td>\n",
       "      <td>0.749853</td>\n",
       "      <td>0.000670</td>\n",
       "      <td>0.502405</td>\n",
       "      <td>0.555687</td>\n",
       "      <td>0.308788</td>\n",
       "      <td>low</td>\n",
       "    </tr>\n",
       "  </tbody>\n",
       "</table>\n",
       "</div>"
      ],
      "text/plain": [
       "  subject       spo2      R_AC      R_DC     IR_AC     IR_DC      G_AC  \\\n",
       "0    Coco  94.067730  0.000128  0.668059  0.000165  0.752154  0.000779   \n",
       "1    Coco  91.528733  0.000248  0.668927  0.000247  0.750615  0.000910   \n",
       "2    Coco  91.589438  0.000233  0.669477  0.000232  0.749842  0.000795   \n",
       "3    Coco  97.037660  0.000077  0.669437  0.000146  0.749879  0.000698   \n",
       "4    Coco  97.487888  0.000062  0.669018  0.000126  0.749853  0.000670   \n",
       "\n",
       "       G_DC   R_value  R_squared quality  \n",
       "0  0.503269  0.873254   0.762572     low  \n",
       "1  0.496823  1.127828   1.271996     low  \n",
       "2  0.494974  1.121523   1.257814    high  \n",
       "3  0.497854  0.596046   0.355270     low  \n",
       "4  0.502405  0.555687   0.308788     low  "
      ]
     },
     "execution_count": 40,
     "metadata": {},
     "output_type": "execute_result"
    }
   ],
   "source": [
    "df = pd.DataFrame(vsTable)\n",
    "df.head()"
   ]
  },
  {
   "cell_type": "markdown",
   "metadata": {},
   "source": [
    "## Select specific subject to display R-value distribution"
   ]
  },
  {
   "cell_type": "code",
   "execution_count": 42,
   "metadata": {},
   "outputs": [
    {
     "data": {
      "text/plain": [
       "Text(0, 0.5, 'spo2')"
      ]
     },
     "execution_count": 42,
     "metadata": {},
     "output_type": "execute_result"
    },
    {
     "data": {
      "image/png": "[encoded data removed]",
      "text/plain": [
       "<Figure size 1296x288 with 2 Axes>"
      ]
     },
     "metadata": {},
     "output_type": "display_data"
    }
   ],
   "source": [
    "\n",
    "\n",
    "tartgetSub = subjects[3]\n",
    "subjectDF = df[df.subject ==tartgetSub]\n",
    "\n",
    "dflen = len(subjectDF.index)\n",
    "time_axis = np.arange(0,dflen*2, 2)\n",
    "\n",
    "fig, (ax1, ax2) = plt.subplots(1,2, figsize=(18,4),  gridspec_kw={'width_ratios': [1, 1]})\n",
    "fig.suptitle('subject: ' + tartgetSub, size=14)\n",
    "\n",
    "t=0\n",
    "smoothR = []\n",
    "smooth_len = 5\n",
    "for i in subjectDF.index:        \n",
    "    if t >= smooth_len:\n",
    "        smoothR.append(subjectDF['R_value'][i-smooth_len:i])\n",
    "    if subjectDF['quality'][i] =='high':\n",
    "        ax1.scatter(t, subjectDF['R_value'][i], color='green')\n",
    "        ax2.scatter(t, subjectDF['spo2'][i], color='green')\n",
    "\n",
    "    elif subjectDF['quality'][i] =='medium':\n",
    "        ax1.scatter(t, subjectDF['R_value'][i], color='yellow')\n",
    "        ax2.scatter(t, subjectDF['spo2'][i], color='yellow')\n",
    "    else:\n",
    "        ax1.scatter(t, subjectDF['R_value'][i], color='orangered')\n",
    "        ax2.scatter(t, subjectDF['spo2'][i], color='orangered')\n",
    "    t+=1\n",
    "    \n",
    "    \n",
    "ax1.set_title('R-value')\n",
    "ax1.set_xlabel('time(seconds)')\n",
    "ax1.set_ylabel('R-value')\n",
    "\n",
    "\n",
    "ax2.set_title('spo2')\n",
    "ax2.set_xlabel('time(seconds)')\n",
    "ax2.set_ylabel('spo2')\n",
    "\n",
    "\n",
    "\n",
    "\n"
   ]
  },
  {
   "cell_type": "code",
   "execution_count": 50,
   "metadata": {},
   "outputs": [
    {
     "ename": "PermissionError",
     "evalue": "[Errno 13] Permission denied: '../../data\\\\Thor 2.0 BP收集 1220-0103\\\\Molly'",
     "output_type": "error",
     "traceback": [
      "\u001b[1;31m---------------------------------------------------------------------------\u001b[0m",
      "\u001b[1;31mPermissionError\u001b[0m                           Traceback (most recent call last)",
      "\u001b[1;32m~\\AppData\\Local\\Temp/ipykernel_27240/371316558.py\u001b[0m in \u001b[0;36m<module>\u001b[1;34m\u001b[0m\n\u001b[1;32m----> 1\u001b[1;33m \u001b[0mppg_proc\u001b[0m\u001b[1;33m(\u001b[0m\u001b[0msubjectDF\u001b[0m\u001b[1;33m,\u001b[0m \u001b[0msubjectDF\u001b[0m\u001b[1;33m.\u001b[0m\u001b[0mindex\u001b[0m\u001b[1;33m[\u001b[0m\u001b[1;36m0\u001b[0m\u001b[1;33m:\u001b[0m\u001b[1;36m30\u001b[0m\u001b[1;33m]\u001b[0m\u001b[1;33m)\u001b[0m\u001b[1;33m\u001b[0m\u001b[1;33m\u001b[0m\u001b[0m\n\u001b[0m",
      "\u001b[1;32m~\\AppData\\Local\\Temp/ipykernel_27240/2998017006.py\u001b[0m in \u001b[0;36mppg_proc\u001b[1;34m(df, index, sr)\u001b[0m\n\u001b[0;32m     69\u001b[0m     \u001b[1;32mfor\u001b[0m \u001b[0mi\u001b[0m \u001b[1;32min\u001b[0m \u001b[0mindex\u001b[0m\u001b[1;33m:\u001b[0m\u001b[1;33m\u001b[0m\u001b[1;33m\u001b[0m\u001b[0m\n\u001b[0;32m     70\u001b[0m         \u001b[0msubject\u001b[0m \u001b[1;33m=\u001b[0m \u001b[0mdf\u001b[0m\u001b[1;33m.\u001b[0m\u001b[0mloc\u001b[0m\u001b[1;33m[\u001b[0m\u001b[0mi\u001b[0m\u001b[1;33m]\u001b[0m\u001b[1;33m[\u001b[0m\u001b[1;34m'subject'\u001b[0m\u001b[1;33m]\u001b[0m\u001b[1;33m\u001b[0m\u001b[1;33m\u001b[0m\u001b[0m\n\u001b[1;32m---> 71\u001b[1;33m         \u001b[0mdata\u001b[0m \u001b[1;33m=\u001b[0m \u001b[0mfile_read\u001b[0m\u001b[1;33m.\u001b[0m\u001b[0mthor2_reader\u001b[0m\u001b[1;33m(\u001b[0m\u001b[0mos\u001b[0m\u001b[1;33m.\u001b[0m\u001b[0mpath\u001b[0m\u001b[1;33m.\u001b[0m\u001b[0mjoin\u001b[0m\u001b[1;33m(\u001b[0m\u001b[1;34m\"../../data\"\u001b[0m\u001b[1;33m,\u001b[0m \u001b[0mfolder\u001b[0m\u001b[1;33m,\u001b[0m \u001b[0msubject\u001b[0m\u001b[1;33m)\u001b[0m\u001b[1;33m)\u001b[0m\u001b[1;33m\u001b[0m\u001b[1;33m\u001b[0m\u001b[0m\n\u001b[0m\u001b[0;32m     72\u001b[0m \u001b[1;33m\u001b[0m\u001b[0m\n\u001b[0;32m     73\u001b[0m         \u001b[0mR\u001b[0m \u001b[1;33m=\u001b[0m \u001b[0mnp\u001b[0m\u001b[1;33m.\u001b[0m\u001b[0marray\u001b[0m\u001b[1;33m(\u001b[0m\u001b[0mdata\u001b[0m\u001b[1;33m[\u001b[0m\u001b[1;34m'PPG_R'\u001b[0m\u001b[1;33m]\u001b[0m\u001b[1;33m)\u001b[0m\u001b[1;33m\u001b[0m\u001b[1;33m\u001b[0m\u001b[0m\n",
      "\u001b[1;32md:\\Thor\\thor-master\\src\\lib\\file_read.py\u001b[0m in \u001b[0;36mthor2_reader\u001b[1;34m(file_path, source)\u001b[0m\n\u001b[0;32m    177\u001b[0m     \u001b[1;31m# file path including file name\u001b[0m\u001b[1;33m\u001b[0m\u001b[1;33m\u001b[0m\u001b[1;33m\u001b[0m\u001b[0m\n\u001b[0;32m    178\u001b[0m     \u001b[1;32mif\u001b[0m \u001b[0msource\u001b[0m \u001b[1;33m==\u001b[0m \u001b[1;32mNone\u001b[0m\u001b[1;33m:\u001b[0m\u001b[1;33m\u001b[0m\u001b[1;33m\u001b[0m\u001b[0m\n\u001b[1;32m--> 179\u001b[1;33m         \u001b[0mdata\u001b[0m \u001b[1;33m=\u001b[0m \u001b[0m_thor_csv_format\u001b[0m\u001b[1;33m(\u001b[0m\u001b[0mfile_path\u001b[0m\u001b[1;33m)\u001b[0m\u001b[1;33m\u001b[0m\u001b[1;33m\u001b[0m\u001b[0m\n\u001b[0m\u001b[0;32m    180\u001b[0m         \u001b[1;32mreturn\u001b[0m \u001b[0mdata\u001b[0m\u001b[1;33m\u001b[0m\u001b[1;33m\u001b[0m\u001b[0m\n\u001b[0;32m    181\u001b[0m     \u001b[1;32melse\u001b[0m\u001b[1;33m:\u001b[0m\u001b[1;33m\u001b[0m\u001b[1;33m\u001b[0m\u001b[0m\n",
      "\u001b[1;32md:\\Thor\\thor-master\\src\\lib\\file_read.py\u001b[0m in \u001b[0;36m_thor_csv_format\u001b[1;34m(full_file_path)\u001b[0m\n\u001b[0;32m    144\u001b[0m \u001b[1;32mdef\u001b[0m \u001b[0m_thor_csv_format\u001b[0m\u001b[1;33m(\u001b[0m\u001b[0mfull_file_path\u001b[0m\u001b[1;33m)\u001b[0m\u001b[1;33m:\u001b[0m\u001b[1;33m\u001b[0m\u001b[1;33m\u001b[0m\u001b[0m\n\u001b[0;32m    145\u001b[0m \u001b[1;33m\u001b[0m\u001b[0m\n\u001b[1;32m--> 146\u001b[1;33m     \u001b[0mf\u001b[0m \u001b[1;33m=\u001b[0m \u001b[0mopen\u001b[0m\u001b[1;33m(\u001b[0m\u001b[0mfull_file_path\u001b[0m\u001b[1;33m,\u001b[0m \u001b[1;34m\"r\"\u001b[0m\u001b[1;33m,\u001b[0m \u001b[0mencoding\u001b[0m\u001b[1;33m=\u001b[0m\u001b[1;34m'utf-8'\u001b[0m\u001b[1;33m)\u001b[0m\u001b[1;33m\u001b[0m\u001b[1;33m\u001b[0m\u001b[0m\n\u001b[0m\u001b[0;32m    147\u001b[0m     \u001b[0mlines\u001b[0m \u001b[1;33m=\u001b[0m \u001b[0mf\u001b[0m\u001b[1;33m.\u001b[0m\u001b[0mreadlines\u001b[0m\u001b[1;33m(\u001b[0m\u001b[1;33m)\u001b[0m\u001b[1;33m\u001b[0m\u001b[1;33m\u001b[0m\u001b[0m\n\u001b[0;32m    148\u001b[0m \u001b[1;33m\u001b[0m\u001b[0m\n",
      "\u001b[1;31mPermissionError\u001b[0m: [Errno 13] Permission denied: '../../data\\\\Thor 2.0 BP收集 1220-0103\\\\Molly'"
     ]
    }
   ],
   "source": [
    "ppg_proc(subjectDF, subjectDF.index[0:30])"
   ]
  },
  {
   "cell_type": "markdown",
   "metadata": {},
   "source": [
    "## box plot"
   ]
  },
  {
   "cell_type": "code",
   "execution_count": null,
   "metadata": {},
   "outputs": [],
   "source": [
    "\n",
    "# box plot for R value\n",
    "plt.figure()\n",
    "plt.title(tartgetSub + ', R-value')\n",
    "bp = plt.boxplot(subjectDF.R_value, showmeans=True)\n",
    "# df.boxplot(column='R_value')\n",
    "print([item.get_ydata() for item in bp['boxes']])"
   ]
  },
  {
   "cell_type": "markdown",
   "metadata": {},
   "source": [
    "## Training new R curve (combine )"
   ]
  },
  {
   "cell_type": "code",
   "execution_count": 205,
   "metadata": {},
   "outputs": [
    {
     "name": "stdout",
     "output_type": "stream",
     "text": [
      "Model coeficient:     [ 17.41863831 -18.27211895]\n",
      "Model intercept: 94.81588110236386\n"
     ]
    },
    {
     "data": {
      "image/png": "[encoded data removed]",
      "text/plain": [
       "<Figure size 432x288 with 1 Axes>"
      ]
     },
     "metadata": {},
     "output_type": "display_data"
    }
   ],
   "source": [
    "plt.scatter(df3.R_value, df3.spo2, label='test data')\n",
    "plt.scatter(reg_x, reg_y, label='simulator')\n",
    "plt.xlabel('R')\n",
    "plt.ylabel('spo2')\n",
    "plt.legend()\n",
    "\n",
    "import numpy as np\n",
    "from sklearn.linear_model import LinearRegression\n",
    "import matplotlib.pyplot as plt\n",
    "import numpy as np\n",
    "\n",
    "from sklearn.linear_model import LinearRegression\n",
    "model = LinearRegression(fit_intercept=True)\n",
    "\n",
    "# X = np.array([[df.R_value, df.R_squared]])\n",
    "X=df3[['R_value', 'R_squared']]\n",
    "model.fit(X, df3.spo2)\n",
    "\n",
    "# xfit = np.linspace(0, 10, 100)\n",
    "# yfit = model.predict(xfit[:, np.newaxis])\n",
    "\n",
    "# plt.scatter(x, y)\n",
    "# plt.plot(xfit, yfit);\n",
    "\n",
    "print(\"Model coeficient:    \", model.coef_)\n",
    "print(\"Model intercept:\", model.intercept_)"
   ]
  },
  {
   "cell_type": "code",
   "execution_count": 199,
   "metadata": {},
   "outputs": [
    {
     "name": "stderr",
     "output_type": "stream",
     "text": [
      "No artists with labels found to put in legend.  Note that artists whose label start with an underscore are ignored when legend() is called with no argument.\n"
     ]
    },
    {
     "data": {
      "text/plain": [
       "<matplotlib.legend.Legend at 0x14e3e0d1400>"
      ]
     },
     "execution_count": 199,
     "metadata": {},
     "output_type": "execute_result"
    },
    {
     "data": {
      "image/png": "[encoded data removed]",
      "text/plain": [
       "<Figure size 432x288 with 1 Axes>"
      ]
     },
     "metadata": {},
     "output_type": "display_data"
    }
   ],
   "source": [
    "plt.figure()\n",
    "plt.scatter(df.R_value, df.spo2)\n",
    "\n",
    "plt.scatter(reg_x, reg_y)\n",
    "\n",
    "plt.xlabel(\"R value\")\n",
    "plt.ylabel(\"SpO2\")\n",
    "plt.legend()"
   ]
  },
  {
   "cell_type": "code",
   "execution_count": 208,
   "metadata": {},
   "outputs": [
    {
     "data": {
      "image/png": "[encoded data removed]",
      "text/plain": [
       "<Figure size 432x288 with 1 Axes>"
      ]
     },
     "metadata": {},
     "output_type": "display_data"
    }
   ],
   "source": [
    "# df['R_PI'] = (df['R_AC']/df['R_DC'])*100\n",
    "# df['IR_PI'] = (df['IR_AC']/df['IR_DC'])*100\n",
    "df['G_PI'] = (df['G_AC']/df['G_DC'])*10\n",
    "plt.hist(df.G_PI, density=False, cumulative = False, label='G')\n",
    "plt.legend()\n",
    "plt.xlabel('PI')\n",
    "plt.show()"
   ]
  }
 ],
 "metadata": {
  "interpreter": {
   "hash": "d1401307fe1f16811127656070eb44783fde8eee1ed7cf4e483e7586d9f5b93c"
  },
  "kernelspec": {
   "display_name": "Python 3.7.1",
   "language": "python",
   "name": "python3"
  },
  "language_info": {
   "codemirror_mode": {
    "name": "ipython",
    "version": 3
   },
   "file_extension": ".py",
   "mimetype": "text/x-python",
   "name": "python",
   "nbconvert_exporter": "python",
   "pygments_lexer": "ipython3",
   "version": "3.7.1"
  },
  "orig_nbformat": 4
 },
 "nbformat": 4,
 "nbformat_minor": 2
}
